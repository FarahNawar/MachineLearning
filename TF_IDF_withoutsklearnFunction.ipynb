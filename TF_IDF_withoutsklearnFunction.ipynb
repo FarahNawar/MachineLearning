{
  "nbformat": 4,
  "nbformat_minor": 0,
  "metadata": {
    "colab": {
      "name": "TF_IDF_withoutsklearnFunction.ipynb",
      "provenance": [],
      "authorship_tag": "ABX9TyP7aTeonaTizU7886l+O31d",
      "include_colab_link": true
    },
    "kernelspec": {
      "name": "python3",
      "display_name": "Python 3"
    }
  },
  "cells": [
    {
      "cell_type": "markdown",
      "metadata": {
        "id": "view-in-github",
        "colab_type": "text"
      },
      "source": [
        "<a href=\"https://colab.research.google.com/github/FarahNawar/MachineLearning/blob/main/TF_IDF_withoutsklearnFunction.ipynb\" target=\"_parent\"><img src=\"https://colab.research.google.com/assets/colab-badge.svg\" alt=\"Open In Colab\"/></a>"
      ]
    },
    {
      "cell_type": "code",
      "metadata": {
        "id": "QGgXw5E8Ncoq"
      },
      "source": [
        "#import necessary libraries\r\n",
        "import pandas as pd\r\n",
        "import sklearn as sk\r\n",
        "import math "
      ],
      "execution_count": null,
      "outputs": []
    },
    {
      "cell_type": "code",
      "metadata": {
        "id": "flLxsiyNNmOE"
      },
      "source": [
        "corpus=['ঢাকা দক্ষিণ এশিয়ার রাষ্ট্র বাংলাদেশের রাজধানী ও বৃহত্তম শহর',\r\n",
        "         'প্রশাসনিকভাবে এটি ঢাকা জেলার প্রধান শহর',\r\n",
        "        'ঢাকা শহর মসজিদের শহর নামে সুপরিচিত']\r\n"
      ],
      "execution_count": null,
      "outputs": []
    },
    {
      "cell_type": "code",
      "metadata": {
        "id": "fHfpZA4gN1S5"
      },
      "source": [
        "data=[]\r\n",
        "total=set()\r\n",
        "for i in corpus:\r\n",
        "  data.append(i.split(\" \"))\r\n",
        "  total=total.union(set(i.split(\" \")))"
      ],
      "execution_count": null,
      "outputs": []
    },
    {
      "cell_type": "code",
      "metadata": {
        "colab": {
          "base_uri": "https://localhost:8080/"
        },
        "id": "0NS1aU8DOcOM",
        "outputId": "ee13c944-b3be-4c52-fb12-a6a6c14e1578"
      },
      "source": [
        "data"
      ],
      "execution_count": null,
      "outputs": [
        {
          "output_type": "execute_result",
          "data": {
            "text/plain": [
              "[['ঢাকা',\n",
              "  'দক্ষিণ',\n",
              "  'এশিয়ার',\n",
              "  'রাষ্ট্র',\n",
              "  'বাংলাদেশের',\n",
              "  'রাজধানী',\n",
              "  'ও',\n",
              "  'বৃহত্তম',\n",
              "  'শহর'],\n",
              " ['প্রশাসনিকভাবে', 'এটি', 'ঢাকা', 'জেলার', 'প্রধান', 'শহর'],\n",
              " ['ঢাকা', 'শহর', 'মসজিদের', 'শহর', 'নামে', 'সুপরিচিত']]"
            ]
          },
          "metadata": {
            "tags": []
          },
          "execution_count": 200
        }
      ]
    },
    {
      "cell_type": "code",
      "metadata": {
        "colab": {
          "base_uri": "https://localhost:8080/"
        },
        "id": "B0vk8qlPOc58",
        "outputId": "4fd3bcc7-adeb-497d-a6fa-70e9a487c744"
      },
      "source": [
        "total"
      ],
      "execution_count": null,
      "outputs": [
        {
          "output_type": "execute_result",
          "data": {
            "text/plain": [
              "{'এটি',\n",
              " 'এশিয়ার',\n",
              " 'ও',\n",
              " 'জেলার',\n",
              " 'ঢাকা',\n",
              " 'দক্ষিণ',\n",
              " 'নামে',\n",
              " 'প্রধান',\n",
              " 'প্রশাসনিকভাবে',\n",
              " 'বাংলাদেশের',\n",
              " 'বৃহত্তম',\n",
              " 'মসজিদের',\n",
              " 'রাজধানী',\n",
              " 'রাষ্ট্র',\n",
              " 'শহর',\n",
              " 'সুপরিচিত'}"
            ]
          },
          "metadata": {
            "tags": []
          },
          "execution_count": 201
        }
      ]
    },
    {
      "cell_type": "code",
      "metadata": {
        "id": "IAxxVoXTQIli"
      },
      "source": [
        "dictlist = [dict.fromkeys(total, 0) for x in range(len(corpus))]"
      ],
      "execution_count": null,
      "outputs": []
    },
    {
      "cell_type": "code",
      "metadata": {
        "colab": {
          "base_uri": "https://localhost:8080/"
        },
        "id": "tnLjbBiqRrZw",
        "outputId": "cf73b097-6b4d-411e-feb5-77d5bc171a5d"
      },
      "source": [
        "dictlist"
      ],
      "execution_count": null,
      "outputs": [
        {
          "output_type": "execute_result",
          "data": {
            "text/plain": [
              "[{'এটি': 0,\n",
              "  'এশিয়ার': 0,\n",
              "  'ও': 0,\n",
              "  'জেলার': 0,\n",
              "  'ঢাকা': 0,\n",
              "  'দক্ষিণ': 0,\n",
              "  'নামে': 0,\n",
              "  'প্রধান': 0,\n",
              "  'প্রশাসনিকভাবে': 0,\n",
              "  'বাংলাদেশের': 0,\n",
              "  'বৃহত্তম': 0,\n",
              "  'মসজিদের': 0,\n",
              "  'রাজধানী': 0,\n",
              "  'রাষ্ট্র': 0,\n",
              "  'শহর': 0,\n",
              "  'সুপরিচিত': 0},\n",
              " {'এটি': 0,\n",
              "  'এশিয়ার': 0,\n",
              "  'ও': 0,\n",
              "  'জেলার': 0,\n",
              "  'ঢাকা': 0,\n",
              "  'দক্ষিণ': 0,\n",
              "  'নামে': 0,\n",
              "  'প্রধান': 0,\n",
              "  'প্রশাসনিকভাবে': 0,\n",
              "  'বাংলাদেশের': 0,\n",
              "  'বৃহত্তম': 0,\n",
              "  'মসজিদের': 0,\n",
              "  'রাজধানী': 0,\n",
              "  'রাষ্ট্র': 0,\n",
              "  'শহর': 0,\n",
              "  'সুপরিচিত': 0},\n",
              " {'এটি': 0,\n",
              "  'এশিয়ার': 0,\n",
              "  'ও': 0,\n",
              "  'জেলার': 0,\n",
              "  'ঢাকা': 0,\n",
              "  'দক্ষিণ': 0,\n",
              "  'নামে': 0,\n",
              "  'প্রধান': 0,\n",
              "  'প্রশাসনিকভাবে': 0,\n",
              "  'বাংলাদেশের': 0,\n",
              "  'বৃহত্তম': 0,\n",
              "  'মসজিদের': 0,\n",
              "  'রাজধানী': 0,\n",
              "  'রাষ্ট্র': 0,\n",
              "  'শহর': 0,\n",
              "  'সুপরিচিত': 0}]"
            ]
          },
          "metadata": {
            "tags": []
          },
          "execution_count": 203
        }
      ]
    },
    {
      "cell_type": "code",
      "metadata": {
        "id": "OxChcz6vRtXV"
      },
      "source": [
        "j=0\r\n",
        "for i in data:  \r\n",
        "  for word in i:\r\n",
        "    dictlist[j][word]=dictlist[j][word]+1\r\n",
        "  j=j+1\r\n",
        "  if j==len(dictlist):\r\n",
        "    break\r\n",
        "    \r\n"
      ],
      "execution_count": null,
      "outputs": []
    },
    {
      "cell_type": "code",
      "metadata": {
        "id": "bDLK6FDRTfzY"
      },
      "source": [
        "import pandas as pd"
      ],
      "execution_count": null,
      "outputs": []
    },
    {
      "cell_type": "code",
      "metadata": {
        "id": "qaVQToE4WqRw"
      },
      "source": [
        "df = pd.DataFrame.from_dict(dictlist) "
      ],
      "execution_count": null,
      "outputs": []
    },
    {
      "cell_type": "code",
      "metadata": {
        "colab": {
          "base_uri": "https://localhost:8080/",
          "height": 142
        },
        "id": "zZvzGczJWsyk",
        "outputId": "c1b6a4f0-6658-4791-a783-a9adba7abbca"
      },
      "source": [
        "df"
      ],
      "execution_count": null,
      "outputs": [
        {
          "output_type": "execute_result",
          "data": {
            "text/html": [
              "<div>\n",
              "<style scoped>\n",
              "    .dataframe tbody tr th:only-of-type {\n",
              "        vertical-align: middle;\n",
              "    }\n",
              "\n",
              "    .dataframe tbody tr th {\n",
              "        vertical-align: top;\n",
              "    }\n",
              "\n",
              "    .dataframe thead th {\n",
              "        text-align: right;\n",
              "    }\n",
              "</style>\n",
              "<table border=\"1\" class=\"dataframe\">\n",
              "  <thead>\n",
              "    <tr style=\"text-align: right;\">\n",
              "      <th></th>\n",
              "      <th>এশিয়ার</th>\n",
              "      <th>সুপরিচিত</th>\n",
              "      <th>বৃহত্তম</th>\n",
              "      <th>জেলার</th>\n",
              "      <th>প্রশাসনিকভাবে</th>\n",
              "      <th>এটি</th>\n",
              "      <th>বাংলাদেশের</th>\n",
              "      <th>রাষ্ট্র</th>\n",
              "      <th>শহর</th>\n",
              "      <th>নামে</th>\n",
              "      <th>মসজিদের</th>\n",
              "      <th>প্রধান</th>\n",
              "      <th>ও</th>\n",
              "      <th>দক্ষিণ</th>\n",
              "      <th>রাজধানী</th>\n",
              "      <th>ঢাকা</th>\n",
              "    </tr>\n",
              "  </thead>\n",
              "  <tbody>\n",
              "    <tr>\n",
              "      <th>0</th>\n",
              "      <td>1</td>\n",
              "      <td>0</td>\n",
              "      <td>1</td>\n",
              "      <td>0</td>\n",
              "      <td>0</td>\n",
              "      <td>0</td>\n",
              "      <td>1</td>\n",
              "      <td>1</td>\n",
              "      <td>1</td>\n",
              "      <td>0</td>\n",
              "      <td>0</td>\n",
              "      <td>0</td>\n",
              "      <td>1</td>\n",
              "      <td>1</td>\n",
              "      <td>1</td>\n",
              "      <td>1</td>\n",
              "    </tr>\n",
              "    <tr>\n",
              "      <th>1</th>\n",
              "      <td>0</td>\n",
              "      <td>0</td>\n",
              "      <td>0</td>\n",
              "      <td>1</td>\n",
              "      <td>1</td>\n",
              "      <td>1</td>\n",
              "      <td>0</td>\n",
              "      <td>0</td>\n",
              "      <td>1</td>\n",
              "      <td>0</td>\n",
              "      <td>0</td>\n",
              "      <td>1</td>\n",
              "      <td>0</td>\n",
              "      <td>0</td>\n",
              "      <td>0</td>\n",
              "      <td>1</td>\n",
              "    </tr>\n",
              "    <tr>\n",
              "      <th>2</th>\n",
              "      <td>0</td>\n",
              "      <td>1</td>\n",
              "      <td>0</td>\n",
              "      <td>0</td>\n",
              "      <td>0</td>\n",
              "      <td>0</td>\n",
              "      <td>0</td>\n",
              "      <td>0</td>\n",
              "      <td>2</td>\n",
              "      <td>1</td>\n",
              "      <td>1</td>\n",
              "      <td>0</td>\n",
              "      <td>0</td>\n",
              "      <td>0</td>\n",
              "      <td>0</td>\n",
              "      <td>1</td>\n",
              "    </tr>\n",
              "  </tbody>\n",
              "</table>\n",
              "</div>"
            ],
            "text/plain": [
              "   এশিয়ার  সুপরিচিত  বৃহত্তম  জেলার  ...  ও  দক্ষিণ  রাজধানী  ঢাকা\n",
              "0        1         0        1      0  ...  1       1        1     1\n",
              "1        0         0        0      1  ...  0       0        0     1\n",
              "2        0         1        0      0  ...  0       0        0     1\n",
              "\n",
              "[3 rows x 16 columns]"
            ]
          },
          "metadata": {
            "tags": []
          },
          "execution_count": 207
        }
      ]
    },
    {
      "cell_type": "code",
      "metadata": {
        "id": "KvpAhLzsWtZO"
      },
      "source": [
        "# TF function:\r\n",
        "def computeTF(wordDict, bow):\r\n",
        "    tfDict = {}\r\n",
        "    bowCount = len(bow)\r\n",
        "    for word, count in wordDict.items():\r\n",
        "        tfDict[word] = count/float(bowCount)\r\n",
        "    return tfDict\r\n"
      ],
      "execution_count": null,
      "outputs": []
    },
    {
      "cell_type": "code",
      "metadata": {
        "colab": {
          "base_uri": "https://localhost:8080/"
        },
        "id": "FUEEjpqBar6i",
        "outputId": "86d8ef86-262f-4efb-8eed-1bb573db12ec"
      },
      "source": [
        "j=0\r\n",
        "dictlist2=[]\r\n",
        "for i in data:  \r\n",
        "    temp=computeTF(dictlist[j],i)\r\n",
        "    dictlist2.append(temp)\r\n",
        "    print(\"hi\")\r\n",
        "    j=j+1\r\n",
        "    if j==len(dictlist):\r\n",
        "      break"
      ],
      "execution_count": null,
      "outputs": [
        {
          "output_type": "stream",
          "text": [
            "hi\n",
            "hi\n",
            "hi\n"
          ],
          "name": "stdout"
        }
      ]
    },
    {
      "cell_type": "code",
      "metadata": {
        "colab": {
          "base_uri": "https://localhost:8080/"
        },
        "id": "se77d9uKdpju",
        "outputId": "26cafb66-eb98-47ac-e8ac-6ad94bbd1243"
      },
      "source": [
        "dictlist2"
      ],
      "execution_count": null,
      "outputs": [
        {
          "output_type": "execute_result",
          "data": {
            "text/plain": [
              "[{'এটি': 0.0,\n",
              "  'এশিয়ার': 0.1111111111111111,\n",
              "  'ও': 0.1111111111111111,\n",
              "  'জেলার': 0.0,\n",
              "  'ঢাকা': 0.1111111111111111,\n",
              "  'দক্ষিণ': 0.1111111111111111,\n",
              "  'নামে': 0.0,\n",
              "  'প্রধান': 0.0,\n",
              "  'প্রশাসনিকভাবে': 0.0,\n",
              "  'বাংলাদেশের': 0.1111111111111111,\n",
              "  'বৃহত্তম': 0.1111111111111111,\n",
              "  'মসজিদের': 0.0,\n",
              "  'রাজধানী': 0.1111111111111111,\n",
              "  'রাষ্ট্র': 0.1111111111111111,\n",
              "  'শহর': 0.1111111111111111,\n",
              "  'সুপরিচিত': 0.0},\n",
              " {'এটি': 0.16666666666666666,\n",
              "  'এশিয়ার': 0.0,\n",
              "  'ও': 0.0,\n",
              "  'জেলার': 0.16666666666666666,\n",
              "  'ঢাকা': 0.16666666666666666,\n",
              "  'দক্ষিণ': 0.0,\n",
              "  'নামে': 0.0,\n",
              "  'প্রধান': 0.16666666666666666,\n",
              "  'প্রশাসনিকভাবে': 0.16666666666666666,\n",
              "  'বাংলাদেশের': 0.0,\n",
              "  'বৃহত্তম': 0.0,\n",
              "  'মসজিদের': 0.0,\n",
              "  'রাজধানী': 0.0,\n",
              "  'রাষ্ট্র': 0.0,\n",
              "  'শহর': 0.16666666666666666,\n",
              "  'সুপরিচিত': 0.0},\n",
              " {'এটি': 0.0,\n",
              "  'এশিয়ার': 0.0,\n",
              "  'ও': 0.0,\n",
              "  'জেলার': 0.0,\n",
              "  'ঢাকা': 0.16666666666666666,\n",
              "  'দক্ষিণ': 0.0,\n",
              "  'নামে': 0.16666666666666666,\n",
              "  'প্রধান': 0.0,\n",
              "  'প্রশাসনিকভাবে': 0.0,\n",
              "  'বাংলাদেশের': 0.0,\n",
              "  'বৃহত্তম': 0.0,\n",
              "  'মসজিদের': 0.16666666666666666,\n",
              "  'রাজধানী': 0.0,\n",
              "  'রাষ্ট্র': 0.0,\n",
              "  'শহর': 0.3333333333333333,\n",
              "  'সুপরিচিত': 0.16666666666666666}]"
            ]
          },
          "metadata": {
            "tags": []
          },
          "execution_count": 210
        }
      ]
    },
    {
      "cell_type": "code",
      "metadata": {
        "id": "LOWgVYjVfUFi"
      },
      "source": [
        "df2 = pd.DataFrame.from_dict(dictlist2)"
      ],
      "execution_count": null,
      "outputs": []
    },
    {
      "cell_type": "code",
      "metadata": {
        "colab": {
          "base_uri": "https://localhost:8080/",
          "height": 162
        },
        "id": "-3J6W6gKfVz0",
        "outputId": "cb36aff9-9d3b-4060-94a6-9fdf4e3822b8"
      },
      "source": [
        "df2"
      ],
      "execution_count": null,
      "outputs": [
        {
          "output_type": "execute_result",
          "data": {
            "text/html": [
              "<div>\n",
              "<style scoped>\n",
              "    .dataframe tbody tr th:only-of-type {\n",
              "        vertical-align: middle;\n",
              "    }\n",
              "\n",
              "    .dataframe tbody tr th {\n",
              "        vertical-align: top;\n",
              "    }\n",
              "\n",
              "    .dataframe thead th {\n",
              "        text-align: right;\n",
              "    }\n",
              "</style>\n",
              "<table border=\"1\" class=\"dataframe\">\n",
              "  <thead>\n",
              "    <tr style=\"text-align: right;\">\n",
              "      <th></th>\n",
              "      <th>এশিয়ার</th>\n",
              "      <th>সুপরিচিত</th>\n",
              "      <th>বৃহত্তম</th>\n",
              "      <th>জেলার</th>\n",
              "      <th>প্রশাসনিকভাবে</th>\n",
              "      <th>এটি</th>\n",
              "      <th>বাংলাদেশের</th>\n",
              "      <th>রাষ্ট্র</th>\n",
              "      <th>শহর</th>\n",
              "      <th>নামে</th>\n",
              "      <th>মসজিদের</th>\n",
              "      <th>প্রধান</th>\n",
              "      <th>ও</th>\n",
              "      <th>দক্ষিণ</th>\n",
              "      <th>রাজধানী</th>\n",
              "      <th>ঢাকা</th>\n",
              "    </tr>\n",
              "  </thead>\n",
              "  <tbody>\n",
              "    <tr>\n",
              "      <th>0</th>\n",
              "      <td>0.111111</td>\n",
              "      <td>0.000000</td>\n",
              "      <td>0.111111</td>\n",
              "      <td>0.000000</td>\n",
              "      <td>0.000000</td>\n",
              "      <td>0.000000</td>\n",
              "      <td>0.111111</td>\n",
              "      <td>0.111111</td>\n",
              "      <td>0.111111</td>\n",
              "      <td>0.000000</td>\n",
              "      <td>0.000000</td>\n",
              "      <td>0.000000</td>\n",
              "      <td>0.111111</td>\n",
              "      <td>0.111111</td>\n",
              "      <td>0.111111</td>\n",
              "      <td>0.111111</td>\n",
              "    </tr>\n",
              "    <tr>\n",
              "      <th>1</th>\n",
              "      <td>0.000000</td>\n",
              "      <td>0.000000</td>\n",
              "      <td>0.000000</td>\n",
              "      <td>0.166667</td>\n",
              "      <td>0.166667</td>\n",
              "      <td>0.166667</td>\n",
              "      <td>0.000000</td>\n",
              "      <td>0.000000</td>\n",
              "      <td>0.166667</td>\n",
              "      <td>0.000000</td>\n",
              "      <td>0.000000</td>\n",
              "      <td>0.166667</td>\n",
              "      <td>0.000000</td>\n",
              "      <td>0.000000</td>\n",
              "      <td>0.000000</td>\n",
              "      <td>0.166667</td>\n",
              "    </tr>\n",
              "    <tr>\n",
              "      <th>2</th>\n",
              "      <td>0.000000</td>\n",
              "      <td>0.166667</td>\n",
              "      <td>0.000000</td>\n",
              "      <td>0.000000</td>\n",
              "      <td>0.000000</td>\n",
              "      <td>0.000000</td>\n",
              "      <td>0.000000</td>\n",
              "      <td>0.000000</td>\n",
              "      <td>0.333333</td>\n",
              "      <td>0.166667</td>\n",
              "      <td>0.166667</td>\n",
              "      <td>0.000000</td>\n",
              "      <td>0.000000</td>\n",
              "      <td>0.000000</td>\n",
              "      <td>0.000000</td>\n",
              "      <td>0.166667</td>\n",
              "    </tr>\n",
              "  </tbody>\n",
              "</table>\n",
              "</div>"
            ],
            "text/plain": [
              "    এশিয়ার  সুপরিচিত   বৃহত্তম  ...    দক্ষিণ   রাজধানী      ঢাকা\n",
              "0  0.111111  0.000000  0.111111  ...  0.111111  0.111111  0.111111\n",
              "1  0.000000  0.000000  0.000000  ...  0.000000  0.000000  0.166667\n",
              "2  0.000000  0.166667  0.000000  ...  0.000000  0.000000  0.166667\n",
              "\n",
              "[3 rows x 16 columns]"
            ]
          },
          "metadata": {
            "tags": []
          },
          "execution_count": 212
        }
      ]
    },
    {
      "cell_type": "code",
      "metadata": {
        "id": "xtLQfWbLfW8q"
      },
      "source": [
        ""
      ],
      "execution_count": null,
      "outputs": []
    }
  ]
}